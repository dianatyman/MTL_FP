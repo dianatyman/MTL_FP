{
 "cells": [
  {
   "cell_type": "code",
   "execution_count": 11,
   "metadata": {},
   "outputs": [],
   "source": [
    "#Libraries\n",
    "import os\n",
    "import pandas as pd\n",
    "import numpy as np\n",
    "import freesound\n",
    "import essentia\n",
    "import essentia.standard as estd\n",
    "import matplotlib.pyplot as plt\n",
    "from IPython.display import display, Audio\n",
    "from switch import Switch"
   ]
  },
  {
   "cell_type": "code",
   "execution_count": 2,
   "metadata": {},
   "outputs": [],
   "source": [
    "#hacer un switch para escoger el tipo de genero"
   ]
  },
  {
   "cell_type": "code",
   "execution_count": 3,
   "metadata": {},
   "outputs": [],
   "source": [
    "#depende del tipo de genero escogido llamar x funcion para q freesound escoja los sonidos dependiendo de x parametros\n",
    "# q definiran el genero --  definir dos estilos con una instrumentación muy diferente \n",
    "#                          (uno sonidos electrónicos, otro sonidos acústicos por ejemplo) que se pueda implementar \n",
    "#                          fácilmente creado dos sets distintos para sonidos \"source\". Para generar un output que \n",
    "#                          sea más musical (en un sentido tradicional), hay que trabajar sobretodo con descriptores \n",
    "#                          de medio/alto nivel. Por ejemplo, sacar los acordes del target audio y no solo los mfcc. \n",
    "#                          También habrá que filtrar bién el source material, quizá incluyendo el uso de tags para \n",
    "#                          mejorar los resultados. Otra idea es crear 2 o 3 streams de audio y luego sumarlos para \n",
    "#                          la reconstrucción final. Uno puede ser el stream rítmico (con sonidos rítmicos y sin \n",
    "#                         \"pitch\"), otro puede ser stream armónico (con acordes), y otro puede ser un stream de \n",
    "#                          melodía (quizá un poco más difícil) o algo genérico basado en descriptores espectrales."
   ]
  },
  {
   "cell_type": "code",
   "execution_count": 10,
   "metadata": {},
   "outputs": [],
   "source": [
    "# centrarse mas en definir - stream rítmico (con sonidos rítmicos y sin \"pitch\") \n",
    "#                          - ser stream armónico (con acordes)\n",
    "#                          - un stream de melodía (un poco más difícil) o algo genérico basado en \n",
    "#                            descriptores espectrales.\n",
    "# o simplemente stream harmonico y percusivo - se puede usar essentia para calcular descriptores"
   ]
  },
  {
   "cell_type": "code",
   "execution_count": null,
   "metadata": {},
   "outputs": [],
   "source": [
    "def pop():\n",
    "    "
   ]
  },
  {
   "cell_type": "code",
   "execution_count": 18,
   "metadata": {},
   "outputs": [],
   "source": [
    "def choose_genre(val):\n",
    "    with Switch(val) as case:\n",
    "        if case(1):\n",
    "            print('Pop')\n",
    "\n",
    "        if case(2):\n",
    "            print('Rock')\n",
    "\n",
    "        if case(3):\n",
    "            print('Instrumental')\n",
    "\n",
    "        if case.default:\n",
    "            print('Choose a genre')"
   ]
  },
  {
   "cell_type": "code",
   "execution_count": 20,
   "metadata": {},
   "outputs": [
    {
     "name": "stdout",
     "output_type": "stream",
     "text": [
      "Rock\n",
      "None\n"
     ]
    }
   ],
   "source": [
    "print(choose_genre(2))"
   ]
  },
  {
   "cell_type": "code",
   "execution_count": null,
   "metadata": {},
   "outputs": [],
   "source": []
  }
 ],
 "metadata": {
  "kernelspec": {
   "display_name": "Python 3",
   "language": "python",
   "name": "python3"
  },
  "language_info": {
   "codemirror_mode": {
    "name": "ipython",
    "version": 3
   },
   "file_extension": ".py",
   "mimetype": "text/x-python",
   "name": "python",
   "nbconvert_exporter": "python",
   "pygments_lexer": "ipython3",
   "version": "3.6.7"
  }
 },
 "nbformat": 4,
 "nbformat_minor": 2
}
